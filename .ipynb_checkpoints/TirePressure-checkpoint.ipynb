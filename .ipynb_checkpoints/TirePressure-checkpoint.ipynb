{
 "cells": [
  {
   "cell_type": "markdown",
   "id": "53d89a4a",
   "metadata": {},
   "source": [
    "# Tire Pressure Calculations"
   ]
  },
  {
   "cell_type": "markdown",
   "id": "dcb919fa",
   "metadata": {},
   "source": [
    "I had low tire pressure yesterday due to the polar vortex, so I added additional air to my tires to about 34PSI, today it is much warmer and the PSI went up more than I expected. Also the PSI doesn't seem to change as much from Spring to Summer, when the weather can swing up more than 20 degrees from night to day. I decided to write some python to try to figure this whole thing out.\n",
    "\n",
    "We can figure this whole thing out using the ideal gas equation.\n",
    "\n",
    "$$PV = nRT$$\n",
    "\n",
    "The [equation][2] terms mean the following with their SI units in parenthes.\n",
    "\n",
    "* $P$ is the pressure. (pascals)\n",
    "* $V$ is the volume. (meters<sup>3</sup>)\n",
    "* $n$ is the number of moles of gas. (unitless)\n",
    "* $R$ is the [ideal gas constant][1] \n",
    "* $T$ is the temperature in kelvins.\n",
    "\n",
    "We have a couple of things we need to solve. The first part is the number of moles of gas in my tires. From there we can figure out how changing the temperature affects the pressure and attempt to attribute how much the expansion of my tires due to heat affects the pressure.\n",
    "\n",
    "## Unit Conversions\n",
    "\n",
    "The most important thing about physics and math in this situation is making sure your units line up correctly and are in metric. I have to do a couple of conversions to get everything to line up properly.\n",
    "\n",
    "The first couple are conversions from US imperial to metric in size. The next is using pascals, does that helps with making sure the numbers line up in a logical manor.\n",
    "\n",
    "[1]: https://en.wikipedia.org/wiki/Gas_constant\n",
    "[2]: https://www.calculatorsoup.com/calculators/physics/ideal-gas-law.php"
   ]
  },
  {
   "cell_type": "code",
   "execution_count": 119,
   "id": "2f3ac64f",
   "metadata": {},
   "outputs": [],
   "source": [
    "import math\n",
    "\n",
    "R = 8.31446261815324 # Ideal Gas Constant m3⋅Pa⋅K−1⋅mol−1\n",
    "\n",
    "def inches2meters(inches):\n",
    "    return inches * 0.0254\n",
    "\n",
    "def psi2Pascal(psi):\n",
    "    return psi * 6894.7572932\n",
    "\n",
    "def pascal2Psi(pascals):\n",
    "    return pascals / 6894.7572932"
   ]
  },
  {
   "cell_type": "markdown",
   "id": "e8c0164c",
   "metadata": {},
   "source": [
    "We should test our unit conversion function to make sure it lines up as we expect. If we convert back and forth, we should receive roughly the same number, and we do. "
   ]
  },
  {
   "cell_type": "code",
   "execution_count": 120,
   "id": "706237a9",
   "metadata": {},
   "outputs": [
    {
     "data": {
      "text/plain": [
       "(36.0, 36.0)"
      ]
     },
     "execution_count": 120,
     "metadata": {},
     "output_type": "execute_result"
    }
   ],
   "source": [
    "psi = 36.0\n",
    "pascals = psi2Pascal(psi)\n",
    "\n",
    "psi, pascal2Psi(pascals)"
   ]
  },
  {
   "cell_type": "markdown",
   "id": "f31ee781",
   "metadata": {},
   "source": [
    "We also need to convert from the imperial units of temperature to Kelvins."
   ]
  },
  {
   "cell_type": "code",
   "execution_count": 121,
   "id": "0aa8ed20",
   "metadata": {},
   "outputs": [],
   "source": [
    "def fDegrees2Kelvins(f):\n",
    "    return f * (9.0 / 5.0) + 273.15"
   ]
  },
  {
   "cell_type": "markdown",
   "id": "46f360c7",
   "metadata": {},
   "source": [
    "Next we have to caluculate the volume of the tire. I plugged in some numbers that sound right for my car."
   ]
  },
  {
   "cell_type": "code",
   "execution_count": 122,
   "id": "51819168",
   "metadata": {},
   "outputs": [
    {
     "data": {
      "text/plain": [
       "0.0837506620437606"
      ]
     },
     "execution_count": 122,
     "metadata": {},
     "output_type": "execute_result"
    }
   ],
   "source": [
    "def volume_of_tire(major, minor, width):\n",
    "    # Area of circle is PI*r^2\n",
    "    # Volume of Cylinder is PI*r^2*height\n",
    "    outer = math.pi * major * major\n",
    "    inner = math.pi * minor * minor\n",
    "    return (outer - minor) * width\n",
    "\n",
    "tire_volume_m3 = volume_of_tire(inches2meters(24), inches2meters(20), inches2meters(5))\n",
    "tire_volume_m3"
   ]
  },
  {
   "cell_type": "markdown",
   "id": "7096f44c",
   "metadata": {},
   "source": [
    "Now that the tire size is in meters cubed, we can calculate the moles. from the known quantities of today. Today it was 44F, and my tire had about 39PSI in it."
   ]
  },
  {
   "cell_type": "code",
   "execution_count": 123,
   "id": "210d6a52",
   "metadata": {},
   "outputs": [
    {
     "data": {
      "text/plain": [
       "7.095798455289843"
      ]
     },
     "execution_count": 123,
     "metadata": {},
     "output_type": "execute_result"
    }
   ],
   "source": [
    "def moles(p, v, tk):\n",
    "    return (p * v) / (R * tk)\n",
    "\n",
    "moles_of_gas = moles(psi2Pascal(psi), tire_volume, fDegrees2Kelvins(44))\n",
    "moles_of_gas"
   ]
  },
  {
   "cell_type": "markdown",
   "id": "0b68141b",
   "metadata": {},
   "source": [
    "The next step is to characterize how the temperature yesterday affected my tire pressure. It was about 14F."
   ]
  },
  {
   "cell_type": "code",
   "execution_count": 124,
   "id": "1cfc7728",
   "metadata": {},
   "outputs": [
    {
     "data": {
      "text/plain": [
       "30.482758620689655"
      ]
     },
     "execution_count": 124,
     "metadata": {},
     "output_type": "execute_result"
    }
   ],
   "source": [
    "def pressure(moles, temp, volume):\n",
    "    return (moles * R * temp) / volume\n",
    "\n",
    "pascals = pressure(moles_of_gas, fDegrees2Kelvins(14), tire_volume)\n",
    "pascal2Psi(pascals)"
   ]
  },
  {
   "cell_type": "markdown",
   "id": "f86ea7bb",
   "metadata": {},
   "source": [
    "So, just a small drop in temperature of 20 degress is enough to decrease the PSI by 6. This seems like an awful lot, but we did not account for volumetric shift due to the cold.\n",
    "\n",
    "## Volume Calculations\n",
    "\n",
    "The next step is to determine the expansion and contraction of the tire rubber with respect to temperature. I'm going to compute all volume changes with respect to the tire measurements in linear units rather than volume, because that feels right and its easier to find unit formulas. I found constants ($\\alpha$) for thermal expansion at this [handy site](https://www.engineeringtoolbox.com/linear-expansion-coefficients-d_95.html).\n",
    "\n",
    "$$dL = L_0 \\alpha (t_1 - t_0)$$\n",
    "\n",
    "$$L_1 = L_0 + dL$$\n",
    "\n",
    "The units for this are $meters * 10^{-6} / (meters * degreeC)$. This is because the change is typically so small. We don't have to convert to celsius because kelvins are celsius with a different zero point. "
   ]
  },
  {
   "cell_type": "code",
   "execution_count": 125,
   "id": "69e51a3b",
   "metadata": {},
   "outputs": [
    {
     "data": {
      "text/plain": [
       "0.004915814399999999"
      ]
     },
     "execution_count": 125,
     "metadata": {},
     "output_type": "execute_result"
    }
   ],
   "source": [
    "STD_TEMP = fDegrees2Kelvins(44)\n",
    "RUBBER_ALPHA = 80 * 1e-6\n",
    "\n",
    "def d_length_at_tk(l0, new_temp):\n",
    "    return l0 * RUBBER_ALPHA * (new_temp - STD_TEMP)\n",
    "\n",
    "d_length_at_tk(inches2meters(24), fDegrees2Kelvins(100))"
   ]
  },
  {
   "cell_type": "markdown",
   "id": "cdb4097e",
   "metadata": {},
   "source": [
    "As we can see the the change in length is very small, but it might have some impact in the overall change in pressure, so let's calculate it out. I'm going to define a class to help with the volume calculations."
   ]
  },
  {
   "cell_type": "code",
   "execution_count": 126,
   "id": "13db4903",
   "metadata": {},
   "outputs": [
    {
     "data": {
      "text/plain": [
       "True"
      ]
     },
     "execution_count": 126,
     "metadata": {},
     "output_type": "execute_result"
    }
   ],
   "source": [
    "from dataclasses import dataclass\n",
    "\n",
    "@dataclass\n",
    "class Tire:\n",
    "    major : float\n",
    "    minor : float\n",
    "    width : float\n",
    "    \n",
    "    def normal_volume(self):\n",
    "        return volume_of_tire(self.major, self.minor, self.width)\n",
    "    \n",
    "    def volume_at_temp(self, temp):\n",
    "        major_axis = self.major + d_length_at_tk(self.major, temp)\n",
    "        minor_axis = self.minor + d_length_at_tk(self.minor, temp)\n",
    "        width_axis = self.width + d_length_at_tk(self.width, temp)\n",
    "        return volume_of_tire(major_axis, minor_axis, width_axis)\n",
    "    \n",
    "my_tire = Tire(inches2meters(24), inches2meters(20), inches2meters(5))\n",
    "\n",
    "# Little test to see if answers remain the same\n",
    "my_tire.normal_volume() == myTire.volume_at_temp(STD_TEMP)"
   ]
  },
  {
   "cell_type": "code",
   "execution_count": 127,
   "id": "3d548a0b",
   "metadata": {},
   "outputs": [
    {
     "data": {
      "text/plain": [
       "(0.0837506620437606, 0.08632182197652641)"
      ]
     },
     "execution_count": 127,
     "metadata": {},
     "output_type": "execute_result"
    }
   ],
   "source": [
    "my_tire.normal_volume(), my_tire.volume_at_temp(fDegrees2Kelvins(100))"
   ]
  },
  {
   "cell_type": "markdown",
   "id": "aa15445a",
   "metadata": {},
   "source": [
    "# Volume vs Temperature Plot"
   ]
  },
  {
   "cell_type": "code",
   "execution_count": 128,
   "id": "d0a7647f",
   "metadata": {},
   "outputs": [
    {
     "data": {
      "image/png": "[encoded data removed]",
      "text/plain": [
       "<Figure size 640x480 with 1 Axes>"
      ]
     },
     "metadata": {},
     "output_type": "display_data"
    }
   ],
   "source": [
    "import matplotlib.pyplot as plt\n",
    "\n",
    "xticks = [x for x in range(-20, 110, 1)]\n",
    "temps = [fDegrees2Kelvins(x) for x in xticks]\n",
    "volumes = [my_tire.volume_at_temp(t) for t in temps]\n",
    "\n",
    "fig, ax = plt.subplots()\n",
    "\n",
    "ax.set_xlabel(\"Temperature (degrees F)\")\n",
    "ax.set_ylabel(\"Volume (meters^3)\")\n",
    "\n",
    "plt.plot(xticks, volumes)\n",
    "plt.show()\n"
   ]
  },
  {
   "cell_type": "markdown",
   "id": "833c80f4",
   "metadata": {},
   "source": [
    "# Building the new model\n",
    "\n",
    "The next step is to define a function that takes into account the change in volume due to temperature.\n",
    "\n",
    "$$P * V(T) = nRT$$"
   ]
  },
  {
   "cell_type": "code",
   "execution_count": 129,
   "id": "2936abd1",
   "metadata": {},
   "outputs": [],
   "source": [
    "def tire_pressure(moles, temp, tire):\n",
    "    volume = tire.volume_at_temp(temp)\n",
    "    return (moles * R * temp) / volume\n",
    "    "
   ]
  },
  {
   "cell_type": "markdown",
   "id": "3c7f6260",
   "metadata": {},
   "source": [
    "It's time for some plots, and to see how much the change in volume affects everything. The temperature range I'm interested in from -20 Fahrenheit to a 110 degrees.\n",
    "\n",
    "I'm also interested in what my car actually reported, but I'm going based off of my memory since I didn't write them down. This whole post is about me trying to build a model, when the car's monitoring felt way off."
   ]
  },
  {
   "cell_type": "code",
   "execution_count": 135,
   "id": "7599b4e0",
   "metadata": {},
   "outputs": [
    {
     "data": {
      "image/png": "[encoded data removed]",
      "text/plain": [
       "<Figure size 640x480 with 1 Axes>"
      ]
     },
     "metadata": {},
     "output_type": "display_data"
    }
   ],
   "source": [
    "import matplotlib.pyplot as plt\n",
    "\n",
    "\n",
    "\n",
    "pressures_with_volume = [pascal2Psi(tire_pressure(moles_of_gas, t, my_tire)) for t in temps]\n",
    "\n",
    "\n",
    "fig, ax = plt.subplots()\n",
    "\n",
    "ax.set_xlabel(\"Temperature (degrees F)\")\n",
    "ax.set_ylabel(\"Pressure (PSI)\")\n",
    "\n",
    "plt.plot(xticks, pressures_with_volume, label='volume_model')\n",
    "\n",
    "pressures = [pascal2Psi(pressure(moles_of_gas, t, tire_volume_m3)) for t in temps]\n",
    "\n",
    "plt.plot(xticks, pressures, label='naive')\n",
    "\n",
    "tpsm_temps = [14, 20, 44]\n",
    "tpsm_psi   = [30, 31, 39]\n",
    "\n",
    "plt.plot(tpsm_temps, tpsm_psi, label='actual tpsm measurements', marker='o', linestyle='dashed')\n",
    "\n",
    "plt.legend()\n",
    "plt.show()"
   ]
  },
  {
   "cell_type": "markdown",
   "id": "eb58b291",
   "metadata": {},
   "source": [
    "# Interpretation\n",
    "\n",
    "As can be seen in the plot above, either my model isn't very good or the [tire pressure monitoring system (TPMS)](https://en.wikipedia.org/wiki/Tire-pressure_monitoring_system) isn't good in my car. I'm leaning towards the TPMS in my car being relatively inaccurate, as I don't drive a very high end car. It seemed to be all over the place today as it warmed up today from the polar vortex.\n",
    "\n",
    "Thank you for your attention and careful reading.\n"
   ]
  }
 ],
 "metadata": {
  "kernelspec": {
   "display_name": "Python 3 (ipykernel)",
   "language": "python",
   "name": "python3"
  },
  "language_info": {
   "codemirror_mode": {
    "name": "ipython",
    "version": 3
   },
   "file_extension": ".py",
   "mimetype": "text/x-python",
   "name": "python",
   "nbconvert_exporter": "python",
   "pygments_lexer": "ipython3",
   "version": "3.10.9"
  }
 },
 "nbformat": 4,
 "nbformat_minor": 5
}
